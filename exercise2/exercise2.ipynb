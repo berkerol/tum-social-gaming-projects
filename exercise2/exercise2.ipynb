{
 "cells": [
  {
   "cell_type": "markdown",
   "metadata": {},
   "source": [
    "# Social Computing - Summer 2018\n",
    "\n",
    "# Exercise 2 - Centrality\n",
    "Centrality is a key concept in social network analysis. It measures the importance or influence of a certain node/edge in a network. The interpretation of importance or influence, however, depends on the type of centrality and the application for which it is measured. Different types of centrality were discussed in the lecture: Degree Centrality, Closeness Centrality, Betweenness Centrality, and Eigenvector Centrality.\n",
    "In this exercise, you are going to implement different centrality algorithms."
   ]
  },
  {
   "cell_type": "markdown",
   "metadata": {},
   "source": [
    "### Introduction Problem: The Krackhardt Kite Graph\n",
    "We will use the Krackhardt Kite for the first exercise. As you know from exercise 1, the Krackhardt Kite is a simple connected graph: unweighted and undirected. The following figure illustrates the Krackhardt Kite. <p>\n",
    "\n",
    "<b>Plot the graph to make sure that all packages are correctly installed. Then calculate the degree centrality of the Krackhardt Kite Graph (just a list of 10 values - one for each node). You can use the implemented function of the igraph library. </b> <p>\n",
    "\n",
    "Optional: Look at the graph and the list with the degree centrality values. Can you identify which node has which degree centrality?\n",
    "\n",
    "<b>Important Note:</b><br>\n",
    "Remember from exercise 1: You need to install Cairo graphics library for Python to enable the igraph plotting functionality on IPython Notebook\n",
    "http://cairographics.org/pycairo/ (installation tutorial can be found on Piazza)"
   ]
  },
  {
   "cell_type": "code",
   "execution_count": null,
   "metadata": {},
   "outputs": [],
   "source": [
    "import igraph\n",
    "#Import the Graph\n",
    "krackhardt_kite = igraph.Graph.Famous('Krackhardt_Kite') # Connected, Unweighted, undirected social network\n",
    "#Formatting the Graph\n",
    "visual_style = {}\n",
    "visual_style[\"vertex_size\"] = 30\n",
    "visual_style[\"bbox\"] = (300, 300)\n",
    "visual_style[\"margin\"] = 20\n",
    "#Plot the Graph\n",
    "igraph.plot(krackhardt_kite, **visual_style)\n",
    "# If the graph is plotted below, all libaries are correctly installed\n",
    "\n",
    "#TODO Calculate the degree centrality for the 10 nodes in the graph.\n",
    "print(krackhardt_kite.degree())\n",
    "print(krackhardt_kite.closeness())\n",
    "print(krackhardt_kite.betweenness())"
   ]
  },
  {
   "cell_type": "markdown",
   "metadata": {},
   "source": [
    "## Problem 1.1 Degree Centrality\n",
    "Now you are working with an anonymized social network represented by the three files: FriendshipNetwork.graphml, FriendshipNetwork_Like.graphml, FriendshipNetwork_Comment.graphml. You can find them on Piazza. <p>\n",
    "The nodes in all of these graphs are user profiles. The edges are the friend relationships (FriendshipNetwork.graphml), the exchanged likes (FriendshipNetwork_Like.graphml), and the comments written to others (FriendshipNetwork_Comment.graphml). <p>\n",
    "\n",
    "<b>Your task in this exercise is to calculate the degree centrality of all the nodes in the three graphs. Also plot at least one of the graphs. </b><p>\n",
    "\n",
    "Degree centrality of a graph node is the number of edges (incoming and outgoing) of that node.\n",
    "Using igraph, write a Python program that calculates the degree centrality of each node in the three graphs. The output should be a list of integers (nodes with a centrality of 0 do not need to be listed, but can be). <p>\n",
    "\n",
    "It is interesting to notice that the degree centrality for the three graphs can be quite different - even though the graphs are extracted from the same social network."
   ]
  },
  {
   "cell_type": "code",
   "execution_count": 1,
   "metadata": {},
   "outputs": [
    {
     "ename": "ImportError",
     "evalue": "No module named igraph",
     "output_type": "error",
     "traceback": [
      "\u001b[0;31m---------------------------------------------------------------------------\u001b[0m",
      "\u001b[0;31mImportError\u001b[0m                               Traceback (most recent call last)",
      "\u001b[0;32m<ipython-input-1-9f498e7b659a>\u001b[0m in \u001b[0;36m<module>\u001b[0;34m()\u001b[0m\n\u001b[0;32m----> 1\u001b[0;31m \u001b[0;32mfrom\u001b[0m \u001b[0migraph\u001b[0m \u001b[0;32mimport\u001b[0m \u001b[0;34m*\u001b[0m\u001b[0;34m\u001b[0m\u001b[0m\n\u001b[0m\u001b[1;32m      2\u001b[0m \u001b[0;34m\u001b[0m\u001b[0m\n\u001b[1;32m      3\u001b[0m \u001b[0;31m#import your Graph here:\u001b[0m\u001b[0;34m\u001b[0m\u001b[0;34m\u001b[0m\u001b[0m\n\u001b[1;32m      4\u001b[0m \u001b[0mfriends\u001b[0m \u001b[0;34m=\u001b[0m \u001b[0mGraph\u001b[0m\u001b[0;34m.\u001b[0m\u001b[0mRead_Ncol\u001b[0m\u001b[0;34m(\u001b[0m\u001b[0;34m\"friendship.csv\"\u001b[0m\u001b[0;34m)\u001b[0m\u001b[0;34m\u001b[0m\u001b[0m\n\u001b[1;32m      5\u001b[0m \u001b[0mlikes\u001b[0m \u001b[0;34m=\u001b[0m \u001b[0mGraph\u001b[0m\u001b[0;34m.\u001b[0m\u001b[0mRead_Ncol\u001b[0m\u001b[0;34m(\u001b[0m\u001b[0;34m\"friendship_like.csv\"\u001b[0m\u001b[0;34m)\u001b[0m\u001b[0;34m\u001b[0m\u001b[0m\n",
      "\u001b[0;31mImportError\u001b[0m: No module named igraph"
     ]
    }
   ],
   "source": [
    "from igraph import *\n",
    "\n",
    "#import your Graph here:\n",
    "friends = Graph.Read_Ncol(\"friendship.csv\")\n",
    "likes = Graph.Read_Ncol(\"friendship_like.csv\")\n",
    "comments = Graph.Read_Ncol(\"friendship_comment.csv\")\n",
    "\n",
    "#visual formatation for the Graph\n",
    "visual_style = {}\n",
    "visual_style[\"vertex_size\"] = 30\n",
    "visual_style[\"vertex_label\"] = friends.vs[\"name\"]\n",
    "visual_style[\"bbox\"] = (800, 800)\n",
    "visual_style[\"margin\"] = 50\n",
    "\n",
    "#insert your code here\n",
    "def calc(g):\n",
    "    degrees = []\n",
    "    adjlist = g.get_adjlist()\n",
    "    for i in range(0, g.vcount()):\n",
    "        sum = 0\n",
    "        for j in range(0, len(adjlist)):\n",
    "            if i == j:\n",
    "                sum += len(adjlist[j])\n",
    "            elif i in adjlist[j]:\n",
    "                sum += 1\n",
    "        degrees.append(sum)\n",
    "    return degrees\n",
    "\n",
    "#plot one of the graphs\n",
    "plot(friends, **visual_style)\n",
    "print(calc(friends))\n",
    "visual_style[\"vertex_label\"] = likes.vs[\"name\"]\n",
    "plot(likes, **visual_style)\n",
    "print(calc(likes))\n",
    "visual_style[\"vertex_label\"] = comments.vs[\"name\"]\n",
    "plot(comments, **visual_style)\n",
    "print(calc(comments))"
   ]
  },
  {
   "cell_type": "markdown",
   "metadata": {},
   "source": [
    "## Problem 1.2 Closeness Centrality\n",
    "Closeness centrality measures how close a node is to the other nodes in the graph. This is calculated via the sum of distances from that node to all the other nodes in the graph. <p>\n",
    "<b>Write a python program that computes the closeness centrality for each node in the Like-Graph </b> (FriendshipNetwork_Like.graphml) from our social network! The output should be a list where each item contains the value of the closeness centrality of a node.\n",
    "\n",
    "<p><b>Remember:</b></p>\n",
    "\n",
    "<li>Calculating the shortest paths is a common problem, maybe there is a pre-defined function for that?</li>\n",
    "<li>The formula for the calculation can be found in the documentation or on Wikipedia</li>\n",
    "<li>You are <b>not allowed</b> to use the pre-defined function closeness(), but you can use it as in inspiration</li>\n",
    "<li>The edges of the Like-Graph have weights: the number of likes that were sent from one node to the other.</li>\n",
    "<li>When you calculate the shortest path you need to take the weights of the edges into account </li>\n",
    "<li>You can print the node namelist with print <b>YOURGRAPHNAME.vs[\"name\"]</b></li>\n",
    "<li>You can print the edge list with <b>print YOURGRAPHNAME</b></li>\n"
   ]
  },
  {
   "cell_type": "code",
   "execution_count": null,
   "metadata": {},
   "outputs": [],
   "source": [
    "from igraph import *\n",
    "\n",
    "likes = Graph.Read_Ncol(\"friendship_like.csv\")\n",
    "\n",
    "#visual style for the Graph\n",
    "visual_style = {}\n",
    "visual_style[\"vertex_size\"] = 30\n",
    "visual_style[\"vertex_label\"] = likes.vs[\"name\"]\n",
    "visual_style[\"bbox\"] = (800, 800)\n",
    "visual_style[\"margin\"] = 50\n",
    "\n",
    "#TODO: Import graph and define Graph Style\n",
    "\n",
    "#TODO: Calculate all shortest paths of each node\n",
    "\n",
    "#TODO: Calculate a list where each item contains the value of the closeness centrality of a node\n",
    "centralities = []\n",
    "vcount = likes.vcount()\n",
    "paths = likes.shortest_paths_dijkstra()\n",
    "for i in range(0, vcount):\n",
    "    sum = 0\n",
    "    for j in paths[i]:\n",
    "        if isinstance(j, (int, long)):\n",
    "            sum += j\n",
    "        else:\n",
    "            sum += 1\n",
    "    centralities.append(float(vcount - 1) / sum)\n",
    "\n",
    "print(centralities)"
   ]
  },
  {
   "cell_type": "markdown",
   "metadata": {},
   "source": [
    "## Problem 1.3 Betweenness centrality\n",
    "\n",
    "Betweenness centrality measures centrality based on shortest paths. For every pair of vertices in a graph there exists a shortest path between the vertices such that either the number of edges that the path passes through (for undirected graphs) or the sum of the weights of the edges (for directed graphs) is minimized. <p>\n",
    "Vertices with high betweenness may have considerable influence within a network by virtue of their control over information passing between others. <p>\n",
    "\n",
    "This time you are working with the FriendshipNetwork.graphml. <p>\n",
    "\n",
    "<b>Calculate the betweenness centrality with the help of the pre-defined functios of the igraph library. Interpret the resulting values based on two exemplary nodes. </b> To do that pick two nodes and explain how their betweenness centrality links to the graph structure. Name the two nodes that you discussed (and their betweenness centrality). (Do not write more than 5 sentences)\n",
    "\n",
    "<p><b>Remember:</b></p>\n",
    "\n",
    "<li>You can print the node namelist with print <b>YOURGRAPHNAME.vs[\"name\"]</b></li>\n"
   ]
  },
  {
   "cell_type": "code",
   "execution_count": 26,
   "metadata": {},
   "outputs": [
    {
     "name": "stdout",
     "output_type": "stream",
     "text": [
      "[189.10428813734046, 635.6578088806694, 39.675072150072154, 12.599633699633696, 774.3561377396086, 33.19813194234538, 397.83715893421197, 295.43924827905386, 13555.268982404457, 3735.640341293793, 4348.50282720292, 169.64285885479734, 14.801828341749927, 91.63172512231128, 5.964917932309236, 39.51563041476725, 229.11186371100166, 0.0, 576.308624203481, 1135.971146818244, 147.77372600052914, 19.052319902319898, 154.38494955564306, 44.896280461028766, 22.839263163798304, 11.828455123308059, 0.0, 1144.4619413623464, 0.0, 382.4065392071154, 2536.1030560634417, 6.257936507936509, 259.6841686091686, 1118.8969322469438, 535.3241079970754, 42.69780724916402, 59.808964553018285, 427.14038894312137, 245.25159366777015, 10.287276612276612, 491.0561165919653, 31.41537100595521, 11.182047107980363, 197.97066254450704, 850.8977070825855, 171.7534041517975, 0.0, 322.07485390277157, 76.20812023775368, 294.3676210775497, 404.5309202146149, 181.9877413891069, 367.1997631774569, 0.0, 70.45786598566868, 12362.6524092048, 231.60388226455274, 11.705746138965948, 0.0, 523.955983699298, 359.5638917247152, 608.5355156428838, 0.0, 641.3323693022601, 34.81747599113828, 148.346906008698, 0.0, 0.0, 1502.7006988609653, 74.50087311808018, 130.04067954471208, 9.787705758293992, 85.31671923772518, 29.133637656554487, 97.18850152050281, 1.2391396213657877, 0.0, 13.39660514923673, 0.0, 143.76777132453606, 52.480431315933224, 1.716969053067451, 69.81843248897792, 0.0, 358.3074184846168, 0.0, 215.60512483034768, 79.92109386029358, 236.02942690985262, 0.0, 15.891445738931115, 68.78559303286755, 30.18161072337273, 798.2852334805499, 865.1447097522433, 124.20760057915406, 206.07420280639363, 0.0, 754.9438980203003, 217.79666688372788, 60.347993767537496, 269.7383006867755, 20.83589466089466, 252.74821678360368, 0.9773128473357307, 228.42064676798404, 1014.3131494339028, 14.698438911897993, 1199.1337244267015, 109.88930970684405, 54.13696267262583, 0.0, 0.0, 13.421688567345791, 0.0, 387.97959861448413, 131.17400816200572, 380.72397800613265, 56.497343075674564, 2363.078365668552, 1552.7230383419574, 65.03508019794837, 681.8174405538706, 391.04037396427356, 4.897619047619048, 739.4217144708113, 359.0369139715362, 1.7051554382436735, 7.627342047930283, 0.2121212121212121, 69.44504040215782, 958.794515605662, 442.1773672547733, 6.710710786797741, 531.3181179994683, 0.0, 0.0, 369.1247570091816, 12.896076098088288, 3.819408418789028, 1021.6675985890816, 432.9593253968253, 2.446825396825397, 121.55305184260438, 438.7267725838288, 0.0, 0.0, 167.3827730155823, 349.14666046166593, 23.60882352941176, 31.470377499320918, 182.31790222614373, 0.0, 0.0, 10.171961554670961, 0.0, 225.58287545787545, 0.0, 195.2001667069314, 18.65413309121108, 0.0, 0.42424242424242425, 27.456051954581365, 37.28169545719454, 189.5314796314796, 62.92709503049292, 8.253445165945166, 64.77924490826027, 203.13881583935196, 0.0, 0.0, 98.56834100588539, 943.3920255117855, 399.94032176973343, 7.7333333333333325, 0.0, 17.63153594771242, 236.0779889960965, 65.25989587633613, 0.0, 235.03362181007253, 298.33070470781473, 284.2045284766385, 0.6944444444444444, 81.05231351447195, 0.0, 266.41000240444265, 101.73124321134738, 260.38995416348354, 362.22623589535374, 6.750234487734488, 749.8568505332835, 404.25, 47.316843681139034, 173.24588047375363, 16.657236227824463, 425.33296530904147, 0.5166666666666666, 0.0, 17.12113617376775, 0.0, 142.62123723002003, 0.0, 0.0, 0.0, 217.0, 0.0, 0.0, 0.0, 0.0, 0.0, 43.60246799516722, 0.0, 0.0, 3.8, 92.17716450216457, 0.0, 0.0, 0.0, 0.0, 45.27328481703482, 0.0, 0.0, 0.0]\n"
     ]
    }
   ],
   "source": [
    "from igraph import *\n",
    "\n",
    "# use FriendshipNetwork.graphml\n",
    "friends = Graph.Read_Ncol(\"friendship.csv\")\n",
    "\n",
    "#visual formatation for the Graph\n",
    "visual_style = {}\n",
    "visual_style[\"vertex_size\"] = 30\n",
    "visual_style[\"vertex_label\"] = friends.vs[\"name\"]\n",
    "visual_style[\"bbox\"] = (800, 800)\n",
    "visual_style[\"margin\"] = 50\n",
    "\n",
    "print(friends.betweenness())"
   ]
  },
  {
   "cell_type": "markdown",
   "metadata": {},
   "source": [
    "I chose vertices with labels 4067 and 261. 261 has a better centrality value because it is in the middle and has a more possibility that to be on shortest paths because of that. 4067 is one of the nodes that are far to the center and don't have many connections so it has a lower centraliy value (in fact 0)."
   ]
  }
 ],
 "metadata": {
  "anaconda-cloud": {},
  "kernelspec": {
   "display_name": "Python 2",
   "language": "python",
   "name": "python2"
  },
  "language_info": {
   "codemirror_mode": {
    "name": "ipython",
    "version": 2
   },
   "file_extension": ".py",
   "mimetype": "text/x-python",
   "name": "python",
   "nbconvert_exporter": "python",
   "pygments_lexer": "ipython2",
   "version": "2.7.14"
  }
 },
 "nbformat": 4,
 "nbformat_minor": 1
}
