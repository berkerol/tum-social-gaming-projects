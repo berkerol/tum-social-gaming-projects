{
 "cells": [
  {
   "cell_type": "markdown",
   "metadata": {
    "collapsed": true
   },
   "source": [
    "# Social Computing - Summer 2018\n",
    "# Exercise 1 - Introduction to Python\n",
    "\n",
    "This is small set of programming problems to help you to get familiar with the Python programming language. The aim is to cover Python core concepts and data structures that should be used in the next exercises.\n",
    "\n",
    "### Problem 1.1: Just Getting Warmed Up (Methods): Fibonacci Series\n",
    "Write a Python method called fibonacci, that takes an integer number N as argument and returns the Fibonacci sequence of length N.\n",
    "\n",
    "Remember: a Fibonacci sequence is a sequence of numbers where each number is the sum of the two previous ones. \n",
    "(E.g The Fibonacci sequence of length 5 is: 1, 2, 3, 5, 8 )"
   ]
  },
  {
   "cell_type": "code",
   "execution_count": 1,
   "metadata": {},
   "outputs": [
    {
     "data": {
      "text/plain": [
       "[1, 2, 3, 5, 8]"
      ]
     },
     "execution_count": 1,
     "metadata": {},
     "output_type": "execute_result"
    }
   ],
   "source": [
    "# Write your Python method here\n",
    "\n",
    "def fibonacci(N):\n",
    "    if N <= 0:\n",
    "        return []\n",
    "    elif N == 1:\n",
    "        return [1]\n",
    "    numbers = [1, 2];\n",
    "    for i in range(2, N):\n",
    "        numbers.append(numbers[i - 2] + numbers[i - 1])\n",
    "    return numbers\n",
    "fibonacci(5)"
   ]
  },
  {
   "cell_type": "markdown",
   "metadata": {
    "collapsed": true
   },
   "source": [
    "### Problem 1.2: Loops and user input..\n",
    "\n",
    "In this section you will program a litte \"Guess the number game\". The computer will think about a random number between 1 and 100. The player will have 5 tries to guess the number correctly. Each time the player guesses the computer gives a hint ( higher/lower). At the end the correct guessed or not guessed number, as well as the needed tries to get there should be printed out in the console.\n"
   ]
  },
  {
   "cell_type": "code",
   "execution_count": 8,
   "metadata": {},
   "outputs": [
    {
     "name": "stdout",
     "output_type": "stream",
     "text": [
      "\tWelcome to 'Guess My Number'!\n",
      "\n",
      "I'm thinking of a number between 1 and 100.\n",
      "Try to guess it in as few attempts as possible.\n",
      "\n",
      "Take a guess: 50\n",
      "Higher...\n",
      "Take a guess: 75\n",
      "Lower...\n",
      "Take a guess: 62\n",
      "\n",
      "Congratulations, you guessed correctly!\n",
      "\n",
      "Number was 62\n",
      "\n",
      "Tries: 3\n"
     ]
    }
   ],
   "source": [
    "import random\n",
    "\n",
    "print(\"\\tWelcome to 'Guess My Number'!\")\n",
    "print(\"\\nI'm thinking of a number between 1 and 100.\")\n",
    "print(\"Try to guess it in as few attempts as possible.\\n\")\n",
    "\n",
    "# set the initial values\n",
    "the_number = random.randint(1, 100)\n",
    "# write your code here\n",
    "tries = 1\n",
    "while True:\n",
    "    guess = input(\"Take a guess: \")\n",
    "    if guess > the_number:\n",
    "        print(\"Lower...\")\n",
    "    elif guess < the_number:\n",
    "        print(\"Higher...\")\n",
    "    else:\n",
    "        print(\"\\nCongratulations, you guessed correctly!\")\n",
    "        break\n",
    "    if tries < 5:\n",
    "        tries = tries + 1\n",
    "    else:\n",
    "        break\n",
    "print(\"\\nNumber was \" + str(the_number))\n",
    "print(\"\\nTries: \" + str(tries))"
   ]
  },
  {
   "cell_type": "markdown",
   "metadata": {},
   "source": [
    "##### Problem 1.3: It's Social Computing, we use graphs, a lot of graphs... Python igraph:\n",
    "In social computing research, we need powerful tools to create, maniuplate, and display graphs. Luckily, there is a plethora of tools and libaries for that. For the next exercises, we are going to use igraph [http://igraph.org/] which also comes as a Python library [http://igraph.org/python/]. igraph provides rich graph data structures and many out-of-the-box functions to process graphs and calculate different metrics.\n",
    "As mentioned in [http://igraph.org/python/], to install python igraph, <br>\n",
    "<b>On Mac OS X</b><br>\n",
    "you to run the command:<br>\n",
    "pip install python-igraph<br>\n",
    "\n",
    "<b>On Windows:</b><br>\n",
    "pip install python-igraph may not work for you!<br>\n",
    "You will need to install the library from [http://www.lfd.uci.edu/~gohlke/pythonlibs/].<br>\n",
    "Pick the library suitable for your Python version and your computer architecture. E.g.<br>\n",
    "python_igraph-0.7.1.post6-cp27-none-win_amd64.whl (this is for Python 2.7 (cp27), and amd 64 bit architecture)<br>\n",
    "Note: these whl files are run with the pip command.<br>\n",
    "A more detailled explanation of the installation can be found in the \"istallation guide iPython.pdf\" on Piazza.<br>\n",
    "\n",
    "The purpose of this exercise is to make you familiar with the igraph Python library. The library includes famous graphs that can readily be instantiated and used.\n",
    "\n",
    "\n",
    "\n",
    "<b>Exercise Part 1:</b><br>\n",
    "Create a graph object that represents the Krackhardt Kite graph, which is a simple connected, unweighted, undirected social network.<br>\n",
    "Next, plot the graph<br>\n",
    "(**Note**: to enable igraph plotting functionality in IPython Notebook, you need to install the graphics library: Cairo [http://cairographics.org/] and PyCairo (or Py2Cairo depending on the Python version you use) [http://cairographics.org/pycairo/resources/].<br>\n",
    "<b>For Mac OS X</b>, the easiest way to install PyCairo is through homebrew [http://brew.sh/].<br>\n",
    "* First install homebrew using the command: /usr/bin/ruby -e \"$(curl -fsSL https://raw.githubusercontent.com/Homebrew/install/master/install)\"\n",
    "* run the command:<br>\n",
    "brew install py2cairo<br>\n",
    "\n",
    "<b>For Windows:</b><br>\n",
    "* You already have package installers you can download from the website [https://cairographics.org/pycairo/resources/]\n",
    "But they are for win32<br>\n",
    "* If you are running and 64bit machine, you can use unofficial installers from here<br> [http://www.lfd.uci.edu/~gohlke/pythonlibs/]:<br>\n",
    "Install the following library: pycairo-1.10.0-cp27-none-win_amd64.whl<br>\n",
    "Note: cp27 stands for python 2.7 (so pick the version relevant to your Python)<br>\n",
    "\n",
    "Now, that you are all set: Display the graph and notice how it looks. If you are experiencing errors with the graph visualization, it is most likely because cairo or py2cairo are not installed correctly. <br>\n",
    "\n",
    "For further information about igraph, we recommend the following tutorial: http://igraph.org/python/doc/tutorial/tutorial.html\n",
    "\n",
    "\n",
    "<b>Background information: Graph Visualization</b><br>\n",
    "Graph visualization is the research area in mathematics/computer science concerned with drawing graphs. It has applications in many fields, one of them is social computing. The quality of a graph visualization is measured based on certain criteria, for example: crossing minimization, and bend minimization. There are many graph drawing algorithms that vary in their quality according to the graph's application and size. One technique is drawing graphs by using physical analogies. The basic idea of this technique is to associate edges between graph nodes with physical forces acting upon the nodes and computing an energy minimum. By setting off the dynamics that is induced by the forces, the graph will finally settle into a natural optimal display. A famous algorithm that implements this technique is the Fruchtermann/Rheingold algorithm. Its basic idea is to replace the graph edges with mechanical springs, and let the springs move the system to a minimal energy state.<br>\n",
    "\n",
    "<b>Exercise Part 2:</b><br>\n",
    "Using igraph, display a small world graph (Watts Strogatz graph) with 20 nodes and the following parameters: dimension: 1, nodes connected to neighbors of distance of most: 3, and rewiring probability: 0. Now vary the parameters and run your code again. What do you notice? What happens when you increase the rewiring probability (e.g., to 0.25). <br> \n",
    "Set the graph layout to Fruchtermann/Reingold. What changes? <br>\n",
    "Don't write more than 5 sentences."
   ]
  },
  {
   "cell_type": "code",
   "execution_count": 7,
   "metadata": {},
   "outputs": [
    {
     "data": {
      "image/svg+xml": [
       "<?xml version=\"1.0\" encoding=\"UTF-8\"?>\n",
       "<svg xmlns=\"http://www.w3.org/2000/svg\" xmlns:xlink=\"http://www.w3.org/1999/xlink\" width=\"600pt\" height=\"600pt\" viewBox=\"0 0 600 600\" version=\"1.1\">\n",
       "<g id=\"surface20\">\n",
       "<rect x=\"0\" y=\"0\" width=\"600\" height=\"600\" style=\"fill:rgb(100%,100%,100%);fill-opacity:1;stroke:none;\"/>\n",
       "<path style=\"fill:none;stroke-width:1;stroke-linecap:butt;stroke-linejoin:miter;stroke:rgb(26.666667%,26.666667%,26.666667%);stroke-opacity:1;stroke-miterlimit:10;\" d=\"M 300.472656 20 L 84.1875 87.363281 \"/>\n",
       "<path style=\"fill:none;stroke-width:1;stroke-linecap:butt;stroke-linejoin:miter;stroke:rgb(26.666667%,26.666667%,26.666667%);stroke-opacity:1;stroke-miterlimit:10;\" d=\"M 84.1875 87.363281 L 20 198.363281 \"/>\n",
       "<path style=\"fill:none;stroke-width:1;stroke-linecap:butt;stroke-linejoin:miter;stroke:rgb(26.666667%,26.666667%,26.666667%);stroke-opacity:1;stroke-miterlimit:10;\" d=\"M 20 198.363281 L 203.429688 243.734375 \"/>\n",
       "<path style=\"fill:none;stroke-width:1;stroke-linecap:butt;stroke-linejoin:miter;stroke:rgb(26.666667%,26.666667%,26.666667%);stroke-opacity:1;stroke-miterlimit:10;\" d=\"M 203.429688 243.734375 L 389.777344 322.800781 \"/>\n",
       "<path style=\"fill:none;stroke-width:1;stroke-linecap:butt;stroke-linejoin:miter;stroke:rgb(26.666667%,26.666667%,26.666667%);stroke-opacity:1;stroke-miterlimit:10;\" d=\"M 411.585938 178.300781 L 389.777344 322.800781 \"/>\n",
       "<path style=\"fill:none;stroke-width:1;stroke-linecap:butt;stroke-linejoin:miter;stroke:rgb(26.666667%,26.666667%,26.666667%);stroke-opacity:1;stroke-miterlimit:10;\" d=\"M 472.410156 56.785156 L 411.585938 178.300781 \"/>\n",
       "<path style=\"fill:none;stroke-width:1;stroke-linecap:butt;stroke-linejoin:miter;stroke:rgb(26.666667%,26.666667%,26.666667%);stroke-opacity:1;stroke-miterlimit:10;\" d=\"M 300.472656 20 L 472.410156 56.785156 \"/>\n",
       "<path style=\"fill:none;stroke-width:1;stroke-linecap:butt;stroke-linejoin:miter;stroke:rgb(26.666667%,26.666667%,26.666667%);stroke-opacity:1;stroke-miterlimit:10;\" d=\"M 300.472656 20 L 411.585938 178.300781 \"/>\n",
       "<path style=\"fill:none;stroke-width:1;stroke-linecap:butt;stroke-linejoin:miter;stroke:rgb(26.666667%,26.666667%,26.666667%);stroke-opacity:1;stroke-miterlimit:10;\" d=\"M 411.585938 178.300781 L 203.429688 243.734375 \"/>\n",
       "<path style=\"fill:none;stroke-width:1;stroke-linecap:butt;stroke-linejoin:miter;stroke:rgb(26.666667%,26.666667%,26.666667%);stroke-opacity:1;stroke-miterlimit:10;\" d=\"M 84.1875 87.363281 L 203.429688 243.734375 \"/>\n",
       "<path style=\"fill:none;stroke-width:1;stroke-linecap:butt;stroke-linejoin:miter;stroke:rgb(26.666667%,26.666667%,26.666667%);stroke-opacity:1;stroke-miterlimit:10;\" d=\"M 472.410156 56.785156 L 241.570312 121.324219 \"/>\n",
       "<path style=\"fill:none;stroke-width:1;stroke-linecap:butt;stroke-linejoin:miter;stroke:rgb(26.666667%,26.666667%,26.666667%);stroke-opacity:1;stroke-miterlimit:10;\" d=\"M 241.570312 121.324219 L 20 198.363281 \"/>\n",
       "<path style=\"fill:none;stroke-width:1;stroke-linecap:butt;stroke-linejoin:miter;stroke:rgb(26.666667%,26.666667%,26.666667%);stroke-opacity:1;stroke-miterlimit:10;\" d=\"M 300.472656 20 L 241.570312 121.324219 \"/>\n",
       "<path style=\"fill:none;stroke-width:1;stroke-linecap:butt;stroke-linejoin:miter;stroke:rgb(26.666667%,26.666667%,26.666667%);stroke-opacity:1;stroke-miterlimit:10;\" d=\"M 241.570312 121.324219 L 203.429688 243.734375 \"/>\n",
       "<path style=\"fill:none;stroke-width:1;stroke-linecap:butt;stroke-linejoin:miter;stroke:rgb(26.666667%,26.666667%,26.666667%);stroke-opacity:1;stroke-miterlimit:10;\" d=\"M 84.1875 87.363281 L 241.570312 121.324219 \"/>\n",
       "<path style=\"fill:none;stroke-width:1;stroke-linecap:butt;stroke-linejoin:miter;stroke:rgb(26.666667%,26.666667%,26.666667%);stroke-opacity:1;stroke-miterlimit:10;\" d=\"M 241.570312 121.324219 L 411.585938 178.300781 \"/>\n",
       "<path style=\"fill:none;stroke-width:1;stroke-linecap:butt;stroke-linejoin:miter;stroke:rgb(26.666667%,26.666667%,26.666667%);stroke-opacity:1;stroke-miterlimit:10;\" d=\"M 389.777344 322.800781 L 481.328125 454.695312 \"/>\n",
       "<path style=\"fill:none;stroke-width:1;stroke-linecap:butt;stroke-linejoin:miter;stroke:rgb(26.666667%,26.666667%,26.666667%);stroke-opacity:1;stroke-miterlimit:10;\" d=\"M 481.328125 454.695312 L 580 580 \"/>\n",
       "<path style=\"fill-rule:nonzero;fill:rgb(100%,0%,0%);fill-opacity:1;stroke-width:1;stroke-linecap:butt;stroke-linejoin:miter;stroke:rgb(0%,0%,0%);stroke-opacity:1;stroke-miterlimit:10;\" d=\"M 310.472656 20 C 310.472656 25.523438 305.992188 30 300.472656 30 C 294.949219 30 290.472656 25.523438 290.472656 20 C 290.472656 14.476562 294.949219 10 300.472656 10 C 305.992188 10 310.472656 14.476562 310.472656 20 \"/>\n",
       "<path style=\"fill-rule:nonzero;fill:rgb(100%,0%,0%);fill-opacity:1;stroke-width:1;stroke-linecap:butt;stroke-linejoin:miter;stroke:rgb(0%,0%,0%);stroke-opacity:1;stroke-miterlimit:10;\" d=\"M 94.1875 87.363281 C 94.1875 92.886719 89.710938 97.363281 84.1875 97.363281 C 78.664062 97.363281 74.1875 92.886719 74.1875 87.363281 C 74.1875 81.839844 78.664062 77.363281 84.1875 77.363281 C 89.710938 77.363281 94.1875 81.839844 94.1875 87.363281 \"/>\n",
       "<path style=\"fill-rule:nonzero;fill:rgb(100%,0%,0%);fill-opacity:1;stroke-width:1;stroke-linecap:butt;stroke-linejoin:miter;stroke:rgb(0%,0%,0%);stroke-opacity:1;stroke-miterlimit:10;\" d=\"M 482.410156 56.785156 C 482.410156 62.308594 477.933594 66.785156 472.410156 66.785156 C 466.886719 66.785156 462.410156 62.308594 462.410156 56.785156 C 462.410156 51.261719 466.886719 46.785156 472.410156 46.785156 C 477.933594 46.785156 482.410156 51.261719 482.410156 56.785156 \"/>\n",
       "<path style=\"fill-rule:nonzero;fill:rgb(100%,0%,0%);fill-opacity:1;stroke-width:1;stroke-linecap:butt;stroke-linejoin:miter;stroke:rgb(0%,0%,0%);stroke-opacity:1;stroke-miterlimit:10;\" d=\"M 251.570312 121.324219 C 251.570312 126.847656 247.09375 131.324219 241.570312 131.324219 C 236.046875 131.324219 231.570312 126.847656 231.570312 121.324219 C 231.570312 115.804688 236.046875 111.324219 241.570312 111.324219 C 247.09375 111.324219 251.570312 115.804688 251.570312 121.324219 \"/>\n",
       "<path style=\"fill-rule:nonzero;fill:rgb(100%,0%,0%);fill-opacity:1;stroke-width:1;stroke-linecap:butt;stroke-linejoin:miter;stroke:rgb(0%,0%,0%);stroke-opacity:1;stroke-miterlimit:10;\" d=\"M 30 198.363281 C 30 203.886719 25.523438 208.363281 20 208.363281 C 14.476562 208.363281 10 203.886719 10 198.363281 C 10 192.839844 14.476562 188.363281 20 188.363281 C 25.523438 188.363281 30 192.839844 30 198.363281 \"/>\n",
       "<path style=\"fill-rule:nonzero;fill:rgb(100%,0%,0%);fill-opacity:1;stroke-width:1;stroke-linecap:butt;stroke-linejoin:miter;stroke:rgb(0%,0%,0%);stroke-opacity:1;stroke-miterlimit:10;\" d=\"M 421.585938 178.300781 C 421.585938 183.824219 417.109375 188.300781 411.585938 188.300781 C 406.0625 188.300781 401.585938 183.824219 401.585938 178.300781 C 401.585938 172.777344 406.0625 168.300781 411.585938 168.300781 C 417.109375 168.300781 421.585938 172.777344 421.585938 178.300781 \"/>\n",
       "<path style=\"fill-rule:nonzero;fill:rgb(100%,0%,0%);fill-opacity:1;stroke-width:1;stroke-linecap:butt;stroke-linejoin:miter;stroke:rgb(0%,0%,0%);stroke-opacity:1;stroke-miterlimit:10;\" d=\"M 213.429688 243.734375 C 213.429688 249.257812 208.953125 253.734375 203.429688 253.734375 C 197.90625 253.734375 193.429688 249.257812 193.429688 243.734375 C 193.429688 238.210938 197.90625 233.734375 203.429688 233.734375 C 208.953125 233.734375 213.429688 238.210938 213.429688 243.734375 \"/>\n",
       "<path style=\"fill-rule:nonzero;fill:rgb(100%,0%,0%);fill-opacity:1;stroke-width:1;stroke-linecap:butt;stroke-linejoin:miter;stroke:rgb(0%,0%,0%);stroke-opacity:1;stroke-miterlimit:10;\" d=\"M 399.777344 322.800781 C 399.777344 328.324219 395.300781 332.800781 389.777344 332.800781 C 384.253906 332.800781 379.777344 328.324219 379.777344 322.800781 C 379.777344 317.277344 384.253906 312.800781 389.777344 312.800781 C 395.300781 312.800781 399.777344 317.277344 399.777344 322.800781 \"/>\n",
       "<path style=\"fill-rule:nonzero;fill:rgb(100%,0%,0%);fill-opacity:1;stroke-width:1;stroke-linecap:butt;stroke-linejoin:miter;stroke:rgb(0%,0%,0%);stroke-opacity:1;stroke-miterlimit:10;\" d=\"M 491.328125 454.695312 C 491.328125 460.21875 486.851562 464.695312 481.328125 464.695312 C 475.804688 464.695312 471.328125 460.21875 471.328125 454.695312 C 471.328125 449.175781 475.804688 444.695312 481.328125 444.695312 C 486.851562 444.695312 491.328125 449.175781 491.328125 454.695312 \"/>\n",
       "<path style=\"fill-rule:nonzero;fill:rgb(100%,0%,0%);fill-opacity:1;stroke-width:1;stroke-linecap:butt;stroke-linejoin:miter;stroke:rgb(0%,0%,0%);stroke-opacity:1;stroke-miterlimit:10;\" d=\"M 590 580 C 590 585.523438 585.523438 590 580 590 C 574.476562 590 570 585.523438 570 580 C 570 574.476562 574.476562 570 580 570 C 585.523438 570 590 574.476562 590 580 \"/>\n",
       "</g>\n",
       "</svg>\n"
      ],
      "text/plain": [
       "<igraph.drawing.Plot at 0x7f36f418df50>"
      ]
     },
     "execution_count": 7,
     "metadata": {},
     "output_type": "execute_result"
    }
   ],
   "source": [
    "# solve Exercise P1\n",
    "# Hint: Use igraph functions\n",
    "from igraph import *\n",
    "\n",
    "g = Graph()\n",
    "g.add_vertices(10)\n",
    "g.add_edges([(0,1), (1,4), (4,6), (6,7), (7,5), (5,2), (2,0), (0,5), (5,6), (6,1), (2,3), (3,4), (0,3), (3,6), (1,3), (3,5), (7,8), (8,9)])\n",
    "plot(g)"
   ]
  },
  {
   "cell_type": "code",
   "execution_count": 3,
   "metadata": {},
   "outputs": [
    {
     "data": {
      "image/svg+xml": [
       "<?xml version=\"1.0\" encoding=\"UTF-8\"?>\n",
       "<svg xmlns=\"http://www.w3.org/2000/svg\" xmlns:xlink=\"http://www.w3.org/1999/xlink\" width=\"600pt\" height=\"600pt\" viewBox=\"0 0 600 600\" version=\"1.1\">\n",
       "<g id=\"surface8\">\n",
       "<rect x=\"0\" y=\"0\" width=\"600\" height=\"600\" style=\"fill:rgb(100%,100%,100%);fill-opacity:1;stroke:none;\"/>\n",
       "<path style=\"fill:none;stroke-width:1;stroke-linecap:butt;stroke-linejoin:miter;stroke:rgb(26.666667%,26.666667%,26.666667%);stroke-opacity:1;stroke-miterlimit:10;\" d=\"M 35.878906 196.1875 L 89.9375 106.179688 \"/>\n",
       "<path style=\"fill:none;stroke-width:1;stroke-linecap:butt;stroke-linejoin:miter;stroke:rgb(26.666667%,26.666667%,26.666667%);stroke-opacity:1;stroke-miterlimit:10;\" d=\"M 89.9375 106.179688 L 210.636719 127.960938 \"/>\n",
       "<path style=\"fill:none;stroke-width:1;stroke-linecap:butt;stroke-linejoin:miter;stroke:rgb(26.666667%,26.666667%,26.666667%);stroke-opacity:1;stroke-miterlimit:10;\" d=\"M 210.636719 127.960938 L 213.519531 23.164062 \"/>\n",
       "<path style=\"fill:none;stroke-width:1;stroke-linecap:butt;stroke-linejoin:miter;stroke:rgb(26.666667%,26.666667%,26.666667%);stroke-opacity:1;stroke-miterlimit:10;\" d=\"M 213.519531 23.164062 L 320.953125 20 \"/>\n",
       "<path style=\"fill:none;stroke-width:1;stroke-linecap:butt;stroke-linejoin:miter;stroke:rgb(26.666667%,26.666667%,26.666667%);stroke-opacity:1;stroke-miterlimit:10;\" d=\"M 320.953125 20 L 427 36.792969 \"/>\n",
       "<path style=\"fill:none;stroke-width:1;stroke-linecap:butt;stroke-linejoin:miter;stroke:rgb(26.666667%,26.666667%,26.666667%);stroke-opacity:1;stroke-miterlimit:10;\" d=\"M 427 36.792969 L 415.839844 141.121094 \"/>\n",
       "<path style=\"fill:none;stroke-width:1;stroke-linecap:butt;stroke-linejoin:miter;stroke:rgb(26.666667%,26.666667%,26.666667%);stroke-opacity:1;stroke-miterlimit:10;\" d=\"M 415.839844 141.121094 L 538.496094 135.015625 \"/>\n",
       "<path style=\"fill:none;stroke-width:1;stroke-linecap:butt;stroke-linejoin:miter;stroke:rgb(26.666667%,26.666667%,26.666667%);stroke-opacity:1;stroke-miterlimit:10;\" d=\"M 538.496094 135.015625 L 580 231.003906 \"/>\n",
       "<path style=\"fill:none;stroke-width:1;stroke-linecap:butt;stroke-linejoin:miter;stroke:rgb(26.666667%,26.666667%,26.666667%);stroke-opacity:1;stroke-miterlimit:10;\" d=\"M 580 231.003906 L 490.785156 309.710938 \"/>\n",
       "<path style=\"fill:none;stroke-width:1;stroke-linecap:butt;stroke-linejoin:miter;stroke:rgb(26.666667%,26.666667%,26.666667%);stroke-opacity:1;stroke-miterlimit:10;\" d=\"M 490.785156 309.710938 L 576.503906 378.929688 \"/>\n",
       "<path style=\"fill:none;stroke-width:1;stroke-linecap:butt;stroke-linejoin:miter;stroke:rgb(26.666667%,26.666667%,26.666667%);stroke-opacity:1;stroke-miterlimit:10;\" d=\"M 576.503906 378.929688 L 512.230469 462 \"/>\n",
       "<path style=\"fill:none;stroke-width:1;stroke-linecap:butt;stroke-linejoin:miter;stroke:rgb(26.666667%,26.666667%,26.666667%);stroke-opacity:1;stroke-miterlimit:10;\" d=\"M 512.230469 462 L 444.425781 531.617188 \"/>\n",
       "<path style=\"fill:none;stroke-width:1;stroke-linecap:butt;stroke-linejoin:miter;stroke:rgb(26.666667%,26.666667%,26.666667%);stroke-opacity:1;stroke-miterlimit:10;\" d=\"M 444.425781 531.617188 L 360.792969 488.546875 \"/>\n",
       "<path style=\"fill:none;stroke-width:1;stroke-linecap:butt;stroke-linejoin:miter;stroke:rgb(26.666667%,26.666667%,26.666667%);stroke-opacity:1;stroke-miterlimit:10;\" d=\"M 360.792969 488.546875 L 283.628906 580 \"/>\n",
       "<path style=\"fill:none;stroke-width:1;stroke-linecap:butt;stroke-linejoin:miter;stroke:rgb(26.666667%,26.666667%,26.666667%);stroke-opacity:1;stroke-miterlimit:10;\" d=\"M 283.628906 580 L 219.402344 479.507812 \"/>\n",
       "<path style=\"fill:none;stroke-width:1;stroke-linecap:butt;stroke-linejoin:miter;stroke:rgb(26.666667%,26.666667%,26.666667%);stroke-opacity:1;stroke-miterlimit:10;\" d=\"M 219.402344 479.507812 L 130.625 511.410156 \"/>\n",
       "<path style=\"fill:none;stroke-width:1;stroke-linecap:butt;stroke-linejoin:miter;stroke:rgb(26.666667%,26.666667%,26.666667%);stroke-opacity:1;stroke-miterlimit:10;\" d=\"M 130.625 511.410156 L 72.652344 433.914062 \"/>\n",
       "<path style=\"fill:none;stroke-width:1;stroke-linecap:butt;stroke-linejoin:miter;stroke:rgb(26.666667%,26.666667%,26.666667%);stroke-opacity:1;stroke-miterlimit:10;\" d=\"M 72.652344 433.914062 L 20 343.203125 \"/>\n",
       "<path style=\"fill:none;stroke-width:1;stroke-linecap:butt;stroke-linejoin:miter;stroke:rgb(26.666667%,26.666667%,26.666667%);stroke-opacity:1;stroke-miterlimit:10;\" d=\"M 20 343.203125 L 113.851562 285.515625 \"/>\n",
       "<path style=\"fill:none;stroke-width:1;stroke-linecap:butt;stroke-linejoin:miter;stroke:rgb(26.666667%,26.666667%,26.666667%);stroke-opacity:1;stroke-miterlimit:10;\" d=\"M 35.878906 196.1875 L 113.851562 285.515625 \"/>\n",
       "<path style=\"fill:none;stroke-width:1;stroke-linecap:butt;stroke-linejoin:miter;stroke:rgb(26.666667%,26.666667%,26.666667%);stroke-opacity:1;stroke-miterlimit:10;\" d=\"M 35.878906 196.1875 L 210.636719 127.960938 \"/>\n",
       "<path style=\"fill:none;stroke-width:1;stroke-linecap:butt;stroke-linejoin:miter;stroke:rgb(26.666667%,26.666667%,26.666667%);stroke-opacity:1;stroke-miterlimit:10;\" d=\"M 35.878906 196.1875 L 20 343.203125 \"/>\n",
       "<path style=\"fill:none;stroke-width:1;stroke-linecap:butt;stroke-linejoin:miter;stroke:rgb(26.666667%,26.666667%,26.666667%);stroke-opacity:1;stroke-miterlimit:10;\" d=\"M 35.878906 196.1875 L 213.519531 23.164062 \"/>\n",
       "<path style=\"fill:none;stroke-width:1;stroke-linecap:butt;stroke-linejoin:miter;stroke:rgb(26.666667%,26.666667%,26.666667%);stroke-opacity:1;stroke-miterlimit:10;\" d=\"M 35.878906 196.1875 L 72.652344 433.914062 \"/>\n",
       "<path style=\"fill:none;stroke-width:1;stroke-linecap:butt;stroke-linejoin:miter;stroke:rgb(26.666667%,26.666667%,26.666667%);stroke-opacity:1;stroke-miterlimit:10;\" d=\"M 89.9375 106.179688 L 113.851562 285.515625 \"/>\n",
       "<path style=\"fill:none;stroke-width:1;stroke-linecap:butt;stroke-linejoin:miter;stroke:rgb(26.666667%,26.666667%,26.666667%);stroke-opacity:1;stroke-miterlimit:10;\" d=\"M 89.9375 106.179688 L 213.519531 23.164062 \"/>\n",
       "<path style=\"fill:none;stroke-width:1;stroke-linecap:butt;stroke-linejoin:miter;stroke:rgb(26.666667%,26.666667%,26.666667%);stroke-opacity:1;stroke-miterlimit:10;\" d=\"M 89.9375 106.179688 L 20 343.203125 \"/>\n",
       "<path style=\"fill:none;stroke-width:1;stroke-linecap:butt;stroke-linejoin:miter;stroke:rgb(26.666667%,26.666667%,26.666667%);stroke-opacity:1;stroke-miterlimit:10;\" d=\"M 89.9375 106.179688 L 320.953125 20 \"/>\n",
       "<path style=\"fill:none;stroke-width:1;stroke-linecap:butt;stroke-linejoin:miter;stroke:rgb(26.666667%,26.666667%,26.666667%);stroke-opacity:1;stroke-miterlimit:10;\" d=\"M 210.636719 127.960938 L 320.953125 20 \"/>\n",
       "<path style=\"fill:none;stroke-width:1;stroke-linecap:butt;stroke-linejoin:miter;stroke:rgb(26.666667%,26.666667%,26.666667%);stroke-opacity:1;stroke-miterlimit:10;\" d=\"M 210.636719 127.960938 L 113.851562 285.515625 \"/>\n",
       "<path style=\"fill:none;stroke-width:1;stroke-linecap:butt;stroke-linejoin:miter;stroke:rgb(26.666667%,26.666667%,26.666667%);stroke-opacity:1;stroke-miterlimit:10;\" d=\"M 210.636719 127.960938 L 427 36.792969 \"/>\n",
       "<path style=\"fill:none;stroke-width:1;stroke-linecap:butt;stroke-linejoin:miter;stroke:rgb(26.666667%,26.666667%,26.666667%);stroke-opacity:1;stroke-miterlimit:10;\" d=\"M 213.519531 23.164062 L 427 36.792969 \"/>\n",
       "<path style=\"fill:none;stroke-width:1;stroke-linecap:butt;stroke-linejoin:miter;stroke:rgb(26.666667%,26.666667%,26.666667%);stroke-opacity:1;stroke-miterlimit:10;\" d=\"M 213.519531 23.164062 L 415.839844 141.121094 \"/>\n",
       "<path style=\"fill:none;stroke-width:1;stroke-linecap:butt;stroke-linejoin:miter;stroke:rgb(26.666667%,26.666667%,26.666667%);stroke-opacity:1;stroke-miterlimit:10;\" d=\"M 320.953125 20 L 415.839844 141.121094 \"/>\n",
       "<path style=\"fill:none;stroke-width:1;stroke-linecap:butt;stroke-linejoin:miter;stroke:rgb(26.666667%,26.666667%,26.666667%);stroke-opacity:1;stroke-miterlimit:10;\" d=\"M 320.953125 20 L 538.496094 135.015625 \"/>\n",
       "<path style=\"fill:none;stroke-width:1;stroke-linecap:butt;stroke-linejoin:miter;stroke:rgb(26.666667%,26.666667%,26.666667%);stroke-opacity:1;stroke-miterlimit:10;\" d=\"M 427 36.792969 L 538.496094 135.015625 \"/>\n",
       "<path style=\"fill:none;stroke-width:1;stroke-linecap:butt;stroke-linejoin:miter;stroke:rgb(26.666667%,26.666667%,26.666667%);stroke-opacity:1;stroke-miterlimit:10;\" d=\"M 427 36.792969 L 580 231.003906 \"/>\n",
       "<path style=\"fill:none;stroke-width:1;stroke-linecap:butt;stroke-linejoin:miter;stroke:rgb(26.666667%,26.666667%,26.666667%);stroke-opacity:1;stroke-miterlimit:10;\" d=\"M 415.839844 141.121094 L 580 231.003906 \"/>\n",
       "<path style=\"fill:none;stroke-width:1;stroke-linecap:butt;stroke-linejoin:miter;stroke:rgb(26.666667%,26.666667%,26.666667%);stroke-opacity:1;stroke-miterlimit:10;\" d=\"M 415.839844 141.121094 L 490.785156 309.710938 \"/>\n",
       "<path style=\"fill:none;stroke-width:1;stroke-linecap:butt;stroke-linejoin:miter;stroke:rgb(26.666667%,26.666667%,26.666667%);stroke-opacity:1;stroke-miterlimit:10;\" d=\"M 538.496094 135.015625 L 490.785156 309.710938 \"/>\n",
       "<path style=\"fill:none;stroke-width:1;stroke-linecap:butt;stroke-linejoin:miter;stroke:rgb(26.666667%,26.666667%,26.666667%);stroke-opacity:1;stroke-miterlimit:10;\" d=\"M 538.496094 135.015625 L 576.503906 378.929688 \"/>\n",
       "<path style=\"fill:none;stroke-width:1;stroke-linecap:butt;stroke-linejoin:miter;stroke:rgb(26.666667%,26.666667%,26.666667%);stroke-opacity:1;stroke-miterlimit:10;\" d=\"M 580 231.003906 L 576.503906 378.929688 \"/>\n",
       "<path style=\"fill:none;stroke-width:1;stroke-linecap:butt;stroke-linejoin:miter;stroke:rgb(26.666667%,26.666667%,26.666667%);stroke-opacity:1;stroke-miterlimit:10;\" d=\"M 580 231.003906 L 512.230469 462 \"/>\n",
       "<path style=\"fill:none;stroke-width:1;stroke-linecap:butt;stroke-linejoin:miter;stroke:rgb(26.666667%,26.666667%,26.666667%);stroke-opacity:1;stroke-miterlimit:10;\" d=\"M 490.785156 309.710938 L 512.230469 462 \"/>\n",
       "<path style=\"fill:none;stroke-width:1;stroke-linecap:butt;stroke-linejoin:miter;stroke:rgb(26.666667%,26.666667%,26.666667%);stroke-opacity:1;stroke-miterlimit:10;\" d=\"M 490.785156 309.710938 L 444.425781 531.617188 \"/>\n",
       "<path style=\"fill:none;stroke-width:1;stroke-linecap:butt;stroke-linejoin:miter;stroke:rgb(26.666667%,26.666667%,26.666667%);stroke-opacity:1;stroke-miterlimit:10;\" d=\"M 576.503906 378.929688 L 444.425781 531.617188 \"/>\n",
       "<path style=\"fill:none;stroke-width:1;stroke-linecap:butt;stroke-linejoin:miter;stroke:rgb(26.666667%,26.666667%,26.666667%);stroke-opacity:1;stroke-miterlimit:10;\" d=\"M 576.503906 378.929688 L 360.792969 488.546875 \"/>\n",
       "<path style=\"fill:none;stroke-width:1;stroke-linecap:butt;stroke-linejoin:miter;stroke:rgb(26.666667%,26.666667%,26.666667%);stroke-opacity:1;stroke-miterlimit:10;\" d=\"M 512.230469 462 L 360.792969 488.546875 \"/>\n",
       "<path style=\"fill:none;stroke-width:1;stroke-linecap:butt;stroke-linejoin:miter;stroke:rgb(26.666667%,26.666667%,26.666667%);stroke-opacity:1;stroke-miterlimit:10;\" d=\"M 512.230469 462 L 283.628906 580 \"/>\n",
       "<path style=\"fill:none;stroke-width:1;stroke-linecap:butt;stroke-linejoin:miter;stroke:rgb(26.666667%,26.666667%,26.666667%);stroke-opacity:1;stroke-miterlimit:10;\" d=\"M 444.425781 531.617188 L 283.628906 580 \"/>\n",
       "<path style=\"fill:none;stroke-width:1;stroke-linecap:butt;stroke-linejoin:miter;stroke:rgb(26.666667%,26.666667%,26.666667%);stroke-opacity:1;stroke-miterlimit:10;\" d=\"M 444.425781 531.617188 L 219.402344 479.507812 \"/>\n",
       "<path style=\"fill:none;stroke-width:1;stroke-linecap:butt;stroke-linejoin:miter;stroke:rgb(26.666667%,26.666667%,26.666667%);stroke-opacity:1;stroke-miterlimit:10;\" d=\"M 360.792969 488.546875 L 219.402344 479.507812 \"/>\n",
       "<path style=\"fill:none;stroke-width:1;stroke-linecap:butt;stroke-linejoin:miter;stroke:rgb(26.666667%,26.666667%,26.666667%);stroke-opacity:1;stroke-miterlimit:10;\" d=\"M 360.792969 488.546875 L 130.625 511.410156 \"/>\n",
       "<path style=\"fill:none;stroke-width:1;stroke-linecap:butt;stroke-linejoin:miter;stroke:rgb(26.666667%,26.666667%,26.666667%);stroke-opacity:1;stroke-miterlimit:10;\" d=\"M 283.628906 580 L 130.625 511.410156 \"/>\n",
       "<path style=\"fill:none;stroke-width:1;stroke-linecap:butt;stroke-linejoin:miter;stroke:rgb(26.666667%,26.666667%,26.666667%);stroke-opacity:1;stroke-miterlimit:10;\" d=\"M 283.628906 580 L 72.652344 433.914062 \"/>\n",
       "<path style=\"fill:none;stroke-width:1;stroke-linecap:butt;stroke-linejoin:miter;stroke:rgb(26.666667%,26.666667%,26.666667%);stroke-opacity:1;stroke-miterlimit:10;\" d=\"M 219.402344 479.507812 L 72.652344 433.914062 \"/>\n",
       "<path style=\"fill:none;stroke-width:1;stroke-linecap:butt;stroke-linejoin:miter;stroke:rgb(26.666667%,26.666667%,26.666667%);stroke-opacity:1;stroke-miterlimit:10;\" d=\"M 219.402344 479.507812 L 20 343.203125 \"/>\n",
       "<path style=\"fill:none;stroke-width:1;stroke-linecap:butt;stroke-linejoin:miter;stroke:rgb(26.666667%,26.666667%,26.666667%);stroke-opacity:1;stroke-miterlimit:10;\" d=\"M 130.625 511.410156 L 20 343.203125 \"/>\n",
       "<path style=\"fill:none;stroke-width:1;stroke-linecap:butt;stroke-linejoin:miter;stroke:rgb(26.666667%,26.666667%,26.666667%);stroke-opacity:1;stroke-miterlimit:10;\" d=\"M 130.625 511.410156 L 113.851562 285.515625 \"/>\n",
       "<path style=\"fill:none;stroke-width:1;stroke-linecap:butt;stroke-linejoin:miter;stroke:rgb(26.666667%,26.666667%,26.666667%);stroke-opacity:1;stroke-miterlimit:10;\" d=\"M 72.652344 433.914062 L 113.851562 285.515625 \"/>\n",
       "<path style=\"fill-rule:nonzero;fill:rgb(100%,0%,0%);fill-opacity:1;stroke-width:1;stroke-linecap:butt;stroke-linejoin:miter;stroke:rgb(0%,0%,0%);stroke-opacity:1;stroke-miterlimit:10;\" d=\"M 45.878906 196.1875 C 45.878906 201.710938 41.402344 206.1875 35.878906 206.1875 C 30.355469 206.1875 25.878906 201.710938 25.878906 196.1875 C 25.878906 190.664062 30.355469 186.1875 35.878906 186.1875 C 41.402344 186.1875 45.878906 190.664062 45.878906 196.1875 \"/>\n",
       "<path style=\"fill-rule:nonzero;fill:rgb(100%,0%,0%);fill-opacity:1;stroke-width:1;stroke-linecap:butt;stroke-linejoin:miter;stroke:rgb(0%,0%,0%);stroke-opacity:1;stroke-miterlimit:10;\" d=\"M 99.9375 106.179688 C 99.9375 111.703125 95.460938 116.179688 89.9375 116.179688 C 84.414062 116.179688 79.9375 111.703125 79.9375 106.179688 C 79.9375 100.65625 84.414062 96.179688 89.9375 96.179688 C 95.460938 96.179688 99.9375 100.65625 99.9375 106.179688 \"/>\n",
       "<path style=\"fill-rule:nonzero;fill:rgb(100%,0%,0%);fill-opacity:1;stroke-width:1;stroke-linecap:butt;stroke-linejoin:miter;stroke:rgb(0%,0%,0%);stroke-opacity:1;stroke-miterlimit:10;\" d=\"M 220.636719 127.960938 C 220.636719 133.484375 216.160156 137.960938 210.636719 137.960938 C 205.117188 137.960938 200.636719 133.484375 200.636719 127.960938 C 200.636719 122.441406 205.117188 117.960938 210.636719 117.960938 C 216.160156 117.960938 220.636719 122.441406 220.636719 127.960938 \"/>\n",
       "<path style=\"fill-rule:nonzero;fill:rgb(100%,0%,0%);fill-opacity:1;stroke-width:1;stroke-linecap:butt;stroke-linejoin:miter;stroke:rgb(0%,0%,0%);stroke-opacity:1;stroke-miterlimit:10;\" d=\"M 223.519531 23.164062 C 223.519531 28.6875 219.039062 33.164062 213.519531 33.164062 C 207.996094 33.164062 203.519531 28.6875 203.519531 23.164062 C 203.519531 17.640625 207.996094 13.164062 213.519531 13.164062 C 219.039062 13.164062 223.519531 17.640625 223.519531 23.164062 \"/>\n",
       "<path style=\"fill-rule:nonzero;fill:rgb(100%,0%,0%);fill-opacity:1;stroke-width:1;stroke-linecap:butt;stroke-linejoin:miter;stroke:rgb(0%,0%,0%);stroke-opacity:1;stroke-miterlimit:10;\" d=\"M 330.953125 20 C 330.953125 25.523438 326.476562 30 320.953125 30 C 315.429688 30 310.953125 25.523438 310.953125 20 C 310.953125 14.476562 315.429688 10 320.953125 10 C 326.476562 10 330.953125 14.476562 330.953125 20 \"/>\n",
       "<path style=\"fill-rule:nonzero;fill:rgb(100%,0%,0%);fill-opacity:1;stroke-width:1;stroke-linecap:butt;stroke-linejoin:miter;stroke:rgb(0%,0%,0%);stroke-opacity:1;stroke-miterlimit:10;\" d=\"M 437 36.792969 C 437 42.316406 432.523438 46.792969 427 46.792969 C 421.476562 46.792969 417 42.316406 417 36.792969 C 417 31.269531 421.476562 26.792969 427 26.792969 C 432.523438 26.792969 437 31.269531 437 36.792969 \"/>\n",
       "<path style=\"fill-rule:nonzero;fill:rgb(100%,0%,0%);fill-opacity:1;stroke-width:1;stroke-linecap:butt;stroke-linejoin:miter;stroke:rgb(0%,0%,0%);stroke-opacity:1;stroke-miterlimit:10;\" d=\"M 425.839844 141.121094 C 425.839844 146.644531 421.363281 151.121094 415.839844 151.121094 C 410.316406 151.121094 405.839844 146.644531 405.839844 141.121094 C 405.839844 135.597656 410.316406 131.121094 415.839844 131.121094 C 421.363281 131.121094 425.839844 135.597656 425.839844 141.121094 \"/>\n",
       "<path style=\"fill-rule:nonzero;fill:rgb(100%,0%,0%);fill-opacity:1;stroke-width:1;stroke-linecap:butt;stroke-linejoin:miter;stroke:rgb(0%,0%,0%);stroke-opacity:1;stroke-miterlimit:10;\" d=\"M 548.496094 135.015625 C 548.496094 140.535156 544.019531 145.015625 538.496094 145.015625 C 532.972656 145.015625 528.496094 140.535156 528.496094 135.015625 C 528.496094 129.492188 532.972656 125.015625 538.496094 125.015625 C 544.019531 125.015625 548.496094 129.492188 548.496094 135.015625 \"/>\n",
       "<path style=\"fill-rule:nonzero;fill:rgb(100%,0%,0%);fill-opacity:1;stroke-width:1;stroke-linecap:butt;stroke-linejoin:miter;stroke:rgb(0%,0%,0%);stroke-opacity:1;stroke-miterlimit:10;\" d=\"M 590 231.003906 C 590 236.527344 585.523438 241.003906 580 241.003906 C 574.476562 241.003906 570 236.527344 570 231.003906 C 570 225.480469 574.476562 221.003906 580 221.003906 C 585.523438 221.003906 590 225.480469 590 231.003906 \"/>\n",
       "<path style=\"fill-rule:nonzero;fill:rgb(100%,0%,0%);fill-opacity:1;stroke-width:1;stroke-linecap:butt;stroke-linejoin:miter;stroke:rgb(0%,0%,0%);stroke-opacity:1;stroke-miterlimit:10;\" d=\"M 500.785156 309.710938 C 500.785156 315.234375 496.308594 319.710938 490.785156 319.710938 C 485.261719 319.710938 480.785156 315.234375 480.785156 309.710938 C 480.785156 304.1875 485.261719 299.710938 490.785156 299.710938 C 496.308594 299.710938 500.785156 304.1875 500.785156 309.710938 \"/>\n",
       "<path style=\"fill-rule:nonzero;fill:rgb(100%,0%,0%);fill-opacity:1;stroke-width:1;stroke-linecap:butt;stroke-linejoin:miter;stroke:rgb(0%,0%,0%);stroke-opacity:1;stroke-miterlimit:10;\" d=\"M 586.503906 378.929688 C 586.503906 384.453125 582.027344 388.929688 576.503906 388.929688 C 570.984375 388.929688 566.503906 384.453125 566.503906 378.929688 C 566.503906 373.40625 570.984375 368.929688 576.503906 368.929688 C 582.027344 368.929688 586.503906 373.40625 586.503906 378.929688 \"/>\n",
       "<path style=\"fill-rule:nonzero;fill:rgb(100%,0%,0%);fill-opacity:1;stroke-width:1;stroke-linecap:butt;stroke-linejoin:miter;stroke:rgb(0%,0%,0%);stroke-opacity:1;stroke-miterlimit:10;\" d=\"M 522.230469 462 C 522.230469 467.523438 517.753906 472 512.230469 472 C 506.707031 472 502.230469 467.523438 502.230469 462 C 502.230469 456.476562 506.707031 452 512.230469 452 C 517.753906 452 522.230469 456.476562 522.230469 462 \"/>\n",
       "<path style=\"fill-rule:nonzero;fill:rgb(100%,0%,0%);fill-opacity:1;stroke-width:1;stroke-linecap:butt;stroke-linejoin:miter;stroke:rgb(0%,0%,0%);stroke-opacity:1;stroke-miterlimit:10;\" d=\"M 454.425781 531.617188 C 454.425781 537.136719 449.949219 541.617188 444.425781 541.617188 C 438.90625 541.617188 434.425781 537.136719 434.425781 531.617188 C 434.425781 526.09375 438.90625 521.617188 444.425781 521.617188 C 449.949219 521.617188 454.425781 526.09375 454.425781 531.617188 \"/>\n",
       "<path style=\"fill-rule:nonzero;fill:rgb(100%,0%,0%);fill-opacity:1;stroke-width:1;stroke-linecap:butt;stroke-linejoin:miter;stroke:rgb(0%,0%,0%);stroke-opacity:1;stroke-miterlimit:10;\" d=\"M 370.792969 488.546875 C 370.792969 494.070312 366.316406 498.546875 360.792969 498.546875 C 355.269531 498.546875 350.792969 494.070312 350.792969 488.546875 C 350.792969 483.023438 355.269531 478.546875 360.792969 478.546875 C 366.316406 478.546875 370.792969 483.023438 370.792969 488.546875 \"/>\n",
       "<path style=\"fill-rule:nonzero;fill:rgb(100%,0%,0%);fill-opacity:1;stroke-width:1;stroke-linecap:butt;stroke-linejoin:miter;stroke:rgb(0%,0%,0%);stroke-opacity:1;stroke-miterlimit:10;\" d=\"M 293.628906 580 C 293.628906 585.523438 289.152344 590 283.628906 590 C 278.105469 590 273.628906 585.523438 273.628906 580 C 273.628906 574.476562 278.105469 570 283.628906 570 C 289.152344 570 293.628906 574.476562 293.628906 580 \"/>\n",
       "<path style=\"fill-rule:nonzero;fill:rgb(100%,0%,0%);fill-opacity:1;stroke-width:1;stroke-linecap:butt;stroke-linejoin:miter;stroke:rgb(0%,0%,0%);stroke-opacity:1;stroke-miterlimit:10;\" d=\"M 229.402344 479.507812 C 229.402344 485.03125 224.925781 489.507812 219.402344 489.507812 C 213.878906 489.507812 209.402344 485.03125 209.402344 479.507812 C 209.402344 473.984375 213.878906 469.507812 219.402344 469.507812 C 224.925781 469.507812 229.402344 473.984375 229.402344 479.507812 \"/>\n",
       "<path style=\"fill-rule:nonzero;fill:rgb(100%,0%,0%);fill-opacity:1;stroke-width:1;stroke-linecap:butt;stroke-linejoin:miter;stroke:rgb(0%,0%,0%);stroke-opacity:1;stroke-miterlimit:10;\" d=\"M 140.625 511.410156 C 140.625 516.933594 136.144531 521.410156 130.625 521.410156 C 125.101562 521.410156 120.625 516.933594 120.625 511.410156 C 120.625 505.886719 125.101562 501.410156 130.625 501.410156 C 136.144531 501.410156 140.625 505.886719 140.625 511.410156 \"/>\n",
       "<path style=\"fill-rule:nonzero;fill:rgb(100%,0%,0%);fill-opacity:1;stroke-width:1;stroke-linecap:butt;stroke-linejoin:miter;stroke:rgb(0%,0%,0%);stroke-opacity:1;stroke-miterlimit:10;\" d=\"M 82.652344 433.914062 C 82.652344 439.4375 78.175781 443.914062 72.652344 443.914062 C 67.128906 443.914062 62.652344 439.4375 62.652344 433.914062 C 62.652344 428.390625 67.128906 423.914062 72.652344 423.914062 C 78.175781 423.914062 82.652344 428.390625 82.652344 433.914062 \"/>\n",
       "<path style=\"fill-rule:nonzero;fill:rgb(100%,0%,0%);fill-opacity:1;stroke-width:1;stroke-linecap:butt;stroke-linejoin:miter;stroke:rgb(0%,0%,0%);stroke-opacity:1;stroke-miterlimit:10;\" d=\"M 30 343.203125 C 30 348.726562 25.523438 353.203125 20 353.203125 C 14.476562 353.203125 10 348.726562 10 343.203125 C 10 337.679688 14.476562 333.203125 20 333.203125 C 25.523438 333.203125 30 337.679688 30 343.203125 \"/>\n",
       "<path style=\"fill-rule:nonzero;fill:rgb(100%,0%,0%);fill-opacity:1;stroke-width:1;stroke-linecap:butt;stroke-linejoin:miter;stroke:rgb(0%,0%,0%);stroke-opacity:1;stroke-miterlimit:10;\" d=\"M 123.851562 285.515625 C 123.851562 291.039062 119.375 295.515625 113.851562 295.515625 C 108.328125 295.515625 103.851562 291.039062 103.851562 285.515625 C 103.851562 279.992188 108.328125 275.515625 113.851562 275.515625 C 119.375 275.515625 123.851562 279.992188 123.851562 285.515625 \"/>\n",
       "</g>\n",
       "</svg>\n"
      ],
      "text/plain": [
       "<igraph.drawing.Plot at 0x7f36f4121c50>"
      ]
     },
     "execution_count": 3,
     "metadata": {},
     "output_type": "execute_result"
    }
   ],
   "source": [
    "# solve Exercise Part 2 here:\n",
    "from igraph import *\n",
    "\n",
    "g = Graph.Watts_Strogatz(1, 20, 3, 0)\n",
    "plot(g)"
   ]
  },
  {
   "cell_type": "markdown",
   "metadata": {
    "collapsed": true
   },
   "source": [
    "If we increase dimension, graph becomes really crowded and complex because of the additional layers.\n",
    "If we increase \"nodes connected to neighbors of distance at most\", the number of connections between every node increase.\n",
    "If we increase \"rewiring probability\", nodes tend to connect to themselves more than one time (more than one edge which has same vertices).\n",
    "Fruchterman-Reingold layout forces equal length edges and edges cross less times with themselves."
   ]
  },
  {
   "cell_type": "code",
   "execution_count": null,
   "metadata": {},
   "outputs": [],
   "source": []
  }
 ],
 "metadata": {
  "anaconda-cloud": {},
  "kernelspec": {
   "display_name": "Python 2",
   "language": "python",
   "name": "python2"
  },
  "language_info": {
   "codemirror_mode": {
    "name": "ipython",
    "version": 2
   },
   "file_extension": ".py",
   "mimetype": "text/x-python",
   "name": "python",
   "nbconvert_exporter": "python",
   "pygments_lexer": "ipython2",
   "version": "2.7.14"
  }
 },
 "nbformat": 4,
 "nbformat_minor": 1
}
